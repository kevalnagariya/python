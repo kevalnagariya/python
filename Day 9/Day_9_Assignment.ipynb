{
 "cells": [
  {
   "cell_type": "markdown",
   "metadata": {},
   "source": [
    "# Question1"
   ]
  },
  {
   "cell_type": "code",
   "execution_count": 6,
   "metadata": {},
   "outputs": [
    {
     "name": "stdout",
     "output_type": "stream",
     "text": [
      "Requirement already satisfied: pylint in c:\\users\\91992\\anaconda3\\lib\\site-packages (2.4.2)\n",
      "Requirement already satisfied: mccabe<0.7,>=0.6 in c:\\users\\91992\\anaconda3\\lib\\site-packages (from pylint) (0.6.1)\n",
      "Requirement already satisfied: isort<5,>=4.2.5 in c:\\users\\91992\\anaconda3\\lib\\site-packages (from pylint) (4.3.21)\n",
      "Requirement already satisfied: colorama; sys_platform == \"win32\" in c:\\users\\91992\\anaconda3\\lib\\site-packages (from pylint) (0.4.1)\n",
      "Requirement already satisfied: astroid<2.4,>=2.3.0 in c:\\users\\91992\\anaconda3\\lib\\site-packages (from pylint) (2.3.1)\n",
      "Requirement already satisfied: lazy-object-proxy==1.4.* in c:\\users\\91992\\anaconda3\\lib\\site-packages (from astroid<2.4,>=2.3.0->pylint) (1.4.2)\n",
      "Requirement already satisfied: six==1.12 in c:\\users\\91992\\anaconda3\\lib\\site-packages (from astroid<2.4,>=2.3.0->pylint) (1.12.0)\n",
      "Requirement already satisfied: wrapt==1.11.* in c:\\users\\91992\\anaconda3\\lib\\site-packages (from astroid<2.4,>=2.3.0->pylint) (1.11.2)\n",
      "Collecting typed-ast<1.5,>=1.4.0; implementation_name == \"cpython\" and python_version < \"3.8\" (from astroid<2.4,>=2.3.0->pylint)\n",
      "  Downloading https://files.pythonhosted.org/packages/6d/6f/c67eed763bcc095d9187c7a04fdc3ba640d1e990368acfcb1d294ff71549/typed_ast-1.4.1-cp37-cp37m-win_amd64.whl (155kB)\n",
      "Installing collected packages: typed-ast\n",
      "Successfully installed typed-ast-1.4.1\n"
     ]
    }
   ],
   "source": [
    "! pip install pylint"
   ]
  },
  {
   "cell_type": "code",
   "execution_count": 63,
   "metadata": {},
   "outputs": [
    {
     "name": "stdout",
     "output_type": "stream",
     "text": [
      "Overwriting prime.py\n"
     ]
    }
   ],
   "source": [
    "%%writefile prime.py\n",
    "NUM = 13\n",
    "'''\n",
    "If given number is greater than 1\n",
    "''' \n",
    "if NUM > 1:\n",
    "    for i in range(2, NUM // 2):\n",
    "        if (NUM % i) == 0:\n",
    "            print(NUM, \"is not a prime number\")\n",
    "            break\n",
    "    else:\n",
    "        print(NUM, \"is a prime number\")\n",
    "else:\n",
    "    print(NUM, \"is not a prime number\")"
   ]
  },
  {
   "cell_type": "code",
   "execution_count": 64,
   "metadata": {},
   "outputs": [
    {
     "name": "stdout",
     "output_type": "stream",
     "text": [
      "************* Module prime\n",
      "prime.py:4:3: C0303: Trailing whitespace (trailing-whitespace)\n",
      "prime.py:4:3: C0303: Trailing whitespace (trailing-whitespace)\n",
      "prime.py:1:0: C0114: Missing module docstring (missing-module-docstring)\n",
      "\n",
      "------------------------------------------------------------------\n",
      "\n",
      "Your code has been rated at 6.67/10 (previous run: 6.67/10, +0.00)\n",
      "\n",
      "\n",
      "\n"
     ]
    }
   ],
   "source": [
    "! pylint \"prime.py\""
   ]
  },
  {
   "cell_type": "code",
   "execution_count": 74,
   "metadata": {},
   "outputs": [
    {
     "name": "stdout",
     "output_type": "stream",
     "text": [
      "Overwriting primes.py\n"
     ]
    }
   ],
   "source": [
    "%%writefile primes.py\n",
    "\n",
    "def is_prime(number):\n",
    "    \"\"\"Return True if *number* is prime.\"\"\"\n",
    "    if number <= 1:\n",
    "        return False\n",
    "\n",
    "    for element in range(2, number):\n",
    "        if number % element == 0:\n",
    "            return False\n",
    "\n",
    "    return True"
   ]
  },
  {
   "cell_type": "code",
   "execution_count": 75,
   "metadata": {},
   "outputs": [
    {
     "name": "stdout",
     "output_type": "stream",
     "text": [
      "Overwriting test_primes.py\n"
     ]
    }
   ],
   "source": [
    "%%writefile test_primes.py\n",
    "\n",
    "import unittest\n",
    "from primes import is_prime\n",
    "\n",
    "class PrimesTestCase(unittest.TestCase):\n",
    "    \"\"\"Tests for `primes.py`.\"\"\"\n",
    "\n",
    "    def test_is_five_prime(self):\n",
    "        \"\"\"Is five successfully determined to be prime?\"\"\"\n",
    "        self.assertTrue(is_prime(5))\n",
    "\n",
    "if __name__ == '__main__':\n",
    "    unittest.main()"
   ]
  },
  {
   "cell_type": "code",
   "execution_count": 76,
   "metadata": {},
   "outputs": [
    {
     "name": "stderr",
     "output_type": "stream",
     "text": [
      ".\n",
      "----------------------------------------------------------------------\n",
      "Ran 1 test in 0.001s\n",
      "\n",
      "OK\n"
     ]
    }
   ],
   "source": [
    "! python test_primes.py"
   ]
  },
  {
   "cell_type": "markdown",
   "metadata": {},
   "source": [
    "# Question2"
   ]
  },
  {
   "cell_type": "code",
   "execution_count": 81,
   "metadata": {},
   "outputs": [],
   "source": [
    "lower = 0\n",
    "upper = 1000\n",
    "\n",
    "\n",
    "def armstrong(lower, upper):\n",
    "    armstrong_numbers = []\n",
    "    for num in range(lower, upper + 1):\n",
    "        order = len(str(num))\n",
    "        sum = 0\n",
    "\n",
    "        temp = num\n",
    "        while temp > 0:\n",
    "            digit = temp % 10\n",
    "            sum += digit ** order\n",
    "            temp //= 10\n",
    "\n",
    "        if num == sum:\n",
    "            armstrong_numbers.append(num)\n",
    "\n",
    "    yield armstrong_numbers"
   ]
  },
  {
   "cell_type": "code",
   "execution_count": 82,
   "metadata": {},
   "outputs": [
    {
     "name": "stdout",
     "output_type": "stream",
     "text": [
      "[[0, 1, 2, 3, 4, 5, 6, 7, 8, 9, 153, 370, 371, 407]]\n"
     ]
    }
   ],
   "source": [
    "print(list(armstrong(lower,upper)))"
   ]
  },
  {
   "cell_type": "code",
   "execution_count": null,
   "metadata": {},
   "outputs": [],
   "source": [
    "\n",
    "lower = 100\n",
    "upper = 2000\n",
    "\n",
    "for num in range(lower, upper + 1):\n",
    "\n",
    "   # order of number\n",
    "   order = len(str(num))\n",
    "    \n",
    "   # initialize sum\n",
    "   sum = 0\n",
    "\n",
    "   temp = num\n",
    "   while temp > 0:\n",
    "       digit = temp % 10\n",
    "       sum += digit ** order\n",
    "       temp //= 10\n",
    "\n",
    "   if num == sum:\n",
    "       print(num)"
   ]
  }
 ],
 "metadata": {
  "kernelspec": {
   "display_name": "Python 3",
   "language": "python",
   "name": "python3"
  },
  "language_info": {
   "codemirror_mode": {
    "name": "ipython",
    "version": 3
   },
   "file_extension": ".py",
   "mimetype": "text/x-python",
   "name": "python",
   "nbconvert_exporter": "python",
   "pygments_lexer": "ipython3",
   "version": "3.7.4"
  }
 },
 "nbformat": 4,
 "nbformat_minor": 2
}
