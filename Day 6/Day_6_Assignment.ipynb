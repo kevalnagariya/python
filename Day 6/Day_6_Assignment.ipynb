{
 "cells": [
  {
   "cell_type": "markdown",
   "metadata": {},
   "source": [
    "# Question 1"
   ]
  },
  {
   "cell_type": "code",
   "execution_count": 5,
   "metadata": {},
   "outputs": [
    {
     "name": "stdout",
     "output_type": "stream",
     "text": [
      "Account owner: ABD\n",
      "Account balance: $100\n",
      "Deposit Accepted, your balance is 150\n",
      "Withdrawal Accepted, your balance is 75\n",
      "Funds Unavailable!\n"
     ]
    }
   ],
   "source": [
    "class Account:\n",
    "    \n",
    "    def __init__(self, ownerName, Balance):\n",
    "        self.ownerName = ownerName\n",
    "        self.Balance = Balance\n",
    "    \n",
    "    def __str__(self):\n",
    "        return 'Account owner: {ownerName}\\nAccount balance: ${Balance}'.format(ownerName=self.ownerName, Balance=self.Balance)\n",
    "        \n",
    "    def deposit(self, dp_money):\n",
    "        self.Balance += dp_money\n",
    "        print('Deposit Accepted, your balance is {Balance}'.format(Balance=self.Balance))\n",
    "    \n",
    "    def withdraw(self, wd_money):\n",
    "        if wd_money > self.Balance:\n",
    "            print('Funds Unavailable!')\n",
    "        else:\n",
    "            self.Balance -= wd_money\n",
    "            print('Withdrawal Accepted, your balance is {Balance}'.format(Balance=self.Balance))\n",
    "            \n",
    "acct1 = Account('ABD',100)\n",
    "print(acct1)\n",
    "\n",
    "acct1.deposit(50)\n",
    "acct1.withdraw(75)\n",
    "acct1.withdraw(500)"
   ]
  },
  {
   "cell_type": "markdown",
   "metadata": {},
   "source": [
    "# Question 2 "
   ]
  },
  {
   "cell_type": "code",
   "execution_count": 36,
   "metadata": {},
   "outputs": [
    {
     "name": "stdout",
     "output_type": "stream",
     "text": [
      "340.3392041388942\n",
      "267.0353755551324\n"
     ]
    }
   ],
   "source": [
    "import math \n",
    "pi = math.pi \n",
    "\n",
    "class Cone():\n",
    "    def __init__(self, radius, height, slant):\n",
    "        self.r = radius\n",
    "        self.h = height\n",
    "        self.s = slant\n",
    "\n",
    "    def volume(self):\n",
    "        return (1 / 3) * pi * self.r * self.r * self.h\n",
    "        \n",
    "    \n",
    "    def surfacearea(self):\n",
    "        return pi * self.r * self.s + pi * self.r * self.r\n",
    "\n",
    "NewCone = Cone(5,13,12)\n",
    "print(NewCone.volume())\n",
    "print(NewCone.surfacearea())"
   ]
  },
  {
   "cell_type": "code",
   "execution_count": null,
   "metadata": {},
   "outputs": [],
   "source": []
  }
 ],
 "metadata": {
  "kernelspec": {
   "display_name": "Python 3",
   "language": "python",
   "name": "python3"
  },
  "language_info": {
   "codemirror_mode": {
    "name": "ipython",
    "version": 3
   },
   "file_extension": ".py",
   "mimetype": "text/x-python",
   "name": "python",
   "nbconvert_exporter": "python",
   "pygments_lexer": "ipython3",
   "version": "3.7.4"
  }
 },
 "nbformat": 4,
 "nbformat_minor": 2
}
